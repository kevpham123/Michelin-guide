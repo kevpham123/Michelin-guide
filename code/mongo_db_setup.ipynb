{
 "cells": [
  {
   "cell_type": "code",
   "execution_count": null,
   "metadata": {},
   "outputs": [],
   "source": [
    "import os\n",
    "import pymongo\n",
    "import json\n",
    "from dotenv import load_dotenv"
   ]
  },
  {
   "cell_type": "code",
   "execution_count": null,
   "metadata": {},
   "outputs": [],
   "source": [
    "# Remember to first download mongodb commmunity on your local device\n",
    "load_dotenv()\n",
    "client = pymongo.MongoClient(os.getenv('MONGODB_CLIENT'))\n",
    "yelp = client.yelp\n",
    "business = yelp.business\n",
    "user = yelp.user\n",
    "review = yelp.review"
   ]
  },
  {
   "cell_type": "code",
   "execution_count": 9,
   "metadata": {},
   "outputs": [],
   "source": [
    "# Use when your collections are corrupted\n",
    "\n",
    "# business.drop()\n",
    "# user.drop()\n",
    "# review.drop()"
   ]
  },
  {
   "cell_type": "markdown",
   "metadata": {},
   "source": [
    "# Insert data into MongoDB"
   ]
  },
  {
   "cell_type": "code",
   "execution_count": 10,
   "metadata": {},
   "outputs": [],
   "source": [
    "try:\n",
    "    business_data\n",
    "except NameError:\n",
    "    business_data = []\n",
    "    with open(\"../data/yelp_academic_dataset_business.json\", 'r') as file:\n",
    "        for line in file:\n",
    "            business_data.append(json.loads(line))"
   ]
  },
  {
   "cell_type": "code",
   "execution_count": 11,
   "metadata": {},
   "outputs": [],
   "source": [
    "try:\n",
    "    user_data\n",
    "except NameError:\n",
    "    user_data = []\n",
    "    with open('../data/yelp_academic_dataset_user.json', 'r') as file:\n",
    "        for line in file:\n",
    "            user_data.append(json.loads(line))"
   ]
  },
  {
   "cell_type": "code",
   "execution_count": 12,
   "metadata": {},
   "outputs": [],
   "source": [
    "try:\n",
    "    review_data\n",
    "except NameError:\n",
    "    review_data = []\n",
    "    with open('../data/yelp_academic_dataset_review.json', 'r') as file:\n",
    "        for line in file:\n",
    "            review_data.append(json.loads(line))"
   ]
  },
  {
   "cell_type": "code",
   "execution_count": null,
   "metadata": {},
   "outputs": [],
   "source": [
    "if len(list(business.find({}, {'business_id' : 1, '_id': 0}))) == 0:\n",
    "    business.insert_many(business_data)\n",
    "\n",
    "# delete variable to free up memory \n",
    "del business_data"
   ]
  },
  {
   "cell_type": "code",
   "execution_count": null,
   "metadata": {},
   "outputs": [],
   "source": [
    "if len(list(user.find({}, {'user_id' : 1, '_id': 0}))) == 0:\n",
    "    user.insert_many(user_data)\n",
    "\n",
    "# delete variable to free up memory\n",
    "del user_data"
   ]
  },
  {
   "cell_type": "code",
   "execution_count": 20,
   "metadata": {},
   "outputs": [],
   "source": [
    "if len(list(review.find({}, {'business_id' : 1, '_id': 0}))) == 0:\n",
    "    review.insert_many(review_data)\n",
    "\n",
    "# delete variable to free up memory\n",
    "del review_data"
   ]
  }
 ],
 "metadata": {
  "kernelspec": {
   "display_name": "base",
   "language": "python",
   "name": "python3"
  },
  "language_info": {
   "codemirror_mode": {
    "name": "ipython",
    "version": 3
   },
   "file_extension": ".py",
   "mimetype": "text/x-python",
   "name": "python",
   "nbconvert_exporter": "python",
   "pygments_lexer": "ipython3",
   "version": "3.11.5"
  }
 },
 "nbformat": 4,
 "nbformat_minor": 2
}
