{
 "cells": [
  {
   "cell_type": "code",
   "execution_count": null,
   "id": "a41d1985-f743-4ae7-a558-bd75504993f8",
   "metadata": {},
   "outputs": [],
   "source": [
    "import os\n",
    "import json\n",
    "import pandas as pd\n",
    "import psycopg as psycopg\n",
    "from dotenv import load_dotenv"
   ]
  },
  {
   "cell_type": "markdown",
   "id": "47cfbec8",
   "metadata": {},
   "source": [
    "## Helper functions"
   ]
  },
  {
   "cell_type": "code",
   "execution_count": null,
   "id": "026bf67e",
   "metadata": {},
   "outputs": [],
   "source": [
    "def queries(query):\n",
    "    load_dotenv()\n",
    "    conn = psycopg.connect(f\"dbname='yelp' user=postgres password={os.getenv('PSQL_PASSWORD')}\", autocommit=True)\n",
    "    cur = conn.cursor()\n",
    "\n",
    "    cur.execute(query)\n",
    "    temp = cur.fetchall()\n",
    "\n",
    "    cur.close()\n",
    "    conn.close()\n",
    "\n",
    "    return temp"
   ]
  },
  {
   "cell_type": "markdown",
   "id": "a6b48be4-9654-41e7-ac81-8628bb4cd67a",
   "metadata": {},
   "source": [
    "## DROP and CREATE DATABASE yelp"
   ]
  },
  {
   "cell_type": "markdown",
   "id": "62d04681-9855-4683-b9e9-566584979fc5",
   "metadata": {},
   "source": [
    "Make sure to put in your password for your postgres user in code/password.txt and upload the json file into the data folder then just run the cells below.\n",
    "\n",
    "__CAUTION: ONLY RUN THE CELL BELOW IF YOU DON'T HAVE YELP DATABASE UP. RUNNING THE CELL BELOW WILL REMOVE THE DATABASE WHICH WILL REMOVE ALL RELATIONS THAT EXIST WITHIN YELP.__"
   ]
  },
  {
   "cell_type": "code",
   "execution_count": null,
   "id": "fed0baa5-146a-41e2-8c2d-20c61db68ddf",
   "metadata": {},
   "outputs": [],
   "source": [
    "load_dotenv()\n",
    "conn = psycopg.connect(f\"dbname='postgres' user=postgres password={os.getenv('PSQL_PASSWORD')}\", autocommit=True)\n",
    "cur = conn.cursor()\n",
    "\n",
    "cur.execute(\"\"\"DROP DATABASE IF EXISTS yelp;\"\"\")\n",
    "cur.execute(\"\"\"CREATE DATABASE yelp;\"\"\")\n",
    "\n",
    "cur.close()\n",
    "conn.close()"
   ]
  },
  {
   "cell_type": "markdown",
   "id": "95ac51ae-ca0c-43fa-978b-c9f826b65a1f",
   "metadata": {},
   "source": [
    "## Create and insert into business table"
   ]
  },
  {
   "cell_type": "code",
   "execution_count": 4,
   "id": "6c943414-8886-4274-a52e-6567ddd3b80a",
   "metadata": {},
   "outputs": [],
   "source": [
    "try:\n",
    "    business_data\n",
    "except NameError:\n",
    "    business_data = []\n",
    "    with open('../data/yelp_academic_dataset_business.json', 'r') as file:\n",
    "        for line in file:\n",
    "            business_data.append(json.loads(line))"
   ]
  },
  {
   "cell_type": "code",
   "execution_count": null,
   "id": "42d12754-e62d-45b1-853c-72c7a9eda40c",
   "metadata": {},
   "outputs": [],
   "source": [
    "conn = psycopg.connect(f\"dbname='yelp' user=postgres password={os.getenv('PSQL_PASSWORD')}\", autocommit=True)\n",
    "cur = conn.cursor()\n",
    "\n",
    "cur.execute(\"\"\"\n",
    "DROP TABLE IF EXISTS businesses;\n",
    "\"\"\")\n",
    "\n",
    "cur.execute(\"\"\"\n",
    "CREATE TABLE businesses (\n",
    "business_id VARCHAR(22) PRIMARY KEY,\n",
    "name TEXT NOT NULL,\n",
    "address VARCHAR(255),\n",
    "city VARCHAR(100),\n",
    "state VARCHAR(20),\n",
    "postal_code VARCHAR(15),\n",
    "latitude FLOAT,\n",
    "longitude FLOAT,\n",
    "stars FLOAT CHECK (stars >= 0 AND stars <= 5),\n",
    "review_count INT CHECK(review_count >= 0),\n",
    "is_open BOOLEAN,\n",
    "attributes JSONB,\n",
    "categories TEXT[],\n",
    "hours JSONB\n",
    ");\"\"\")\n",
    "\n",
    "cur.close()\n",
    "conn.close()"
   ]
  },
  {
   "cell_type": "code",
   "execution_count": null,
   "id": "84224cb8-c045-4128-8c74-4dbacf596f5c",
   "metadata": {},
   "outputs": [],
   "source": [
    "conn = psycopg.connect(f\"dbname='yelp' user=postgres password={os.getenv('PSQL_PASSWORD')}\", autocommit=True)\n",
    "cur = conn.cursor()\n",
    "\n",
    "for i in range(len(business_data)):\n",
    "    cur.execute(\"\"\"\n",
    "    INSERT INTO businesses (business_id,\n",
    "                          name,\n",
    "                          address,\n",
    "                          city,\n",
    "                          state,\n",
    "                          postal_code,\n",
    "                          latitude,\n",
    "                          longitude,\n",
    "                          stars,\n",
    "                          review_count,\n",
    "                          is_open,\n",
    "                          attributes,\n",
    "                          categories,\n",
    "                          hours)\n",
    "    VALUES (%(business_id)s,\n",
    "            %(name)s,\n",
    "            %(address)s,\n",
    "            %(city)s,\n",
    "            %(state)s,\n",
    "            %(postal_code)s,\n",
    "            %(latitude)s,\n",
    "            %(longitude)s,\n",
    "            %(stars)s,\n",
    "            %(review_count)s,\n",
    "            %(is_open)s,\n",
    "            %(attributes)s,\n",
    "            %(categories)s,\n",
    "            %(hours)s);\n",
    "    \"\"\",\n",
    "    {'business_id': business_data[i]['business_id'],\n",
    "     'name': business_data[i]['name'],\n",
    "     'address': business_data[i]['address'],\n",
    "     'city': business_data[i]['city'],\n",
    "     'state': business_data[i]['state'],\n",
    "     'postal_code': business_data[i]['postal_code'],\n",
    "     'latitude': business_data[i]['latitude'],\n",
    "     'longitude': business_data[i]['longitude'],\n",
    "     'stars': business_data[i]['stars'],\n",
    "     'review_count': business_data[i]['review_count'],\n",
    "     'is_open': bool(business_data[i]['is_open']),\n",
    "     'attributes': json.dumps(business_data[i]['attributes']),\n",
    "     'categories': [business_data[i]['categories']],\n",
    "     'hours': json.dumps(business_data[i]['hours'])\n",
    "    })\n",
    "\n",
    "cur.close()\n",
    "conn.close()"
   ]
  },
  {
   "cell_type": "markdown",
   "id": "650009ac",
   "metadata": {},
   "source": [
    "## Create and insert into user table"
   ]
  },
  {
   "cell_type": "code",
   "execution_count": 7,
   "id": "95396bc6",
   "metadata": {},
   "outputs": [],
   "source": [
    "try:\n",
    "    user_data\n",
    "except NameError:\n",
    "    user_data = []\n",
    "    with open('../data/yelp_academic_dataset_user.json', 'r') as file:\n",
    "        for line in file:\n",
    "            user_data.append(json.loads(line))"
   ]
  },
  {
   "cell_type": "code",
   "execution_count": null,
   "id": "1ce61f3a",
   "metadata": {},
   "outputs": [],
   "source": [
    "conn = psycopg.connect(f\"dbname='yelp' user=postgres password={os.getenv('PSQL_PASSWORD')}\", autocommit=True)\n",
    "cur = conn.cursor()\n",
    "\n",
    "cur.execute(\"\"\"\n",
    "DROP TABLE IF EXISTS users;\n",
    "\"\"\")\n",
    "\n",
    "cur.execute(\"\"\"\n",
    "CREATE TABLE users (\n",
    "user_id VARCHAR(22) PRIMARY KEY,\n",
    "name TEXT NOT NULL,\n",
    "review_count INT CHECK (review_count >= 0),\n",
    "yelping_since DATE,\n",
    "friends TEXT[],\n",
    "useful INT CHECK (useful >= 0),\n",
    "funny INT CHECK (funny >= 0),\n",
    "cool INT CHECK (cool >= 0),\n",
    "fans INT CHECK (fans >= 0),\n",
    "elite TEXT[],\n",
    "average_stars FLOAT CHECK (average_stars >= 0 AND average_stars <= 5),\n",
    "compliment_hot INT CHECK (compliment_hot >= 0),\n",
    "compliment_more INT CHECK (compliment_more >= 0),\n",
    "compliment_profile INT CHECK (compliment_profile >= 0),\n",
    "compliment_cute INT CHECK (compliment_cute >= 0),\n",
    "compliment_list INT CHECK (compliment_list >= 0),\n",
    "compliment_note INT CHECK (compliment_note >= 0),\n",
    "compliment_plain INT CHECK (compliment_plain >= 0),\n",
    "compliment_cool INT CHECK (compliment_cool >= 0),\n",
    "compliment_funny INT CHECK (compliment_funny >= 0),\n",
    "compliment_writer INT CHECK (compliment_writer >= 0),\n",
    "compliment_photos INT CHECK (compliment_photos >= 0)\n",
    ");\"\"\")\n",
    "\n",
    "cur.close()\n",
    "conn.close()"
   ]
  },
  {
   "cell_type": "code",
   "execution_count": null,
   "id": "e89980d0-12ac-414f-944e-bba67ecf7b65",
   "metadata": {},
   "outputs": [],
   "source": [
    "conn = psycopg.connect(f\"dbname='yelp' user=postgres password={os.getenv('PSQL_PASSWORD')}\", autocommit=True)\n",
    "cur = conn.cursor()\n",
    "\n",
    "for i in range(len(user_data)):\n",
    "    cur.execute(\"\"\"\n",
    "    INSERT INTO users (user_id,\n",
    "                        name,\n",
    "                        review_count,\n",
    "                        yelping_since,\n",
    "                        friends,\n",
    "                        useful,\n",
    "                        funny,\n",
    "                        cool,\n",
    "                        fans,\n",
    "                        elite,\n",
    "                        average_stars,\n",
    "                        compliment_hot,\n",
    "                        compliment_more,\n",
    "                        compliment_profile,\n",
    "                        compliment_cute,\n",
    "                        compliment_list,\n",
    "                        compliment_note,\n",
    "                        compliment_plain,\n",
    "                        compliment_cool,\n",
    "                        compliment_funny,\n",
    "                        compliment_writer,\n",
    "                        compliment_photos)\n",
    "    VALUES (%(user_id)s,\n",
    "            %(name)s,\n",
    "            %(review_count)s,\n",
    "            %(yelping_since)s,\n",
    "            %(friends)s,\n",
    "            %(useful)s,\n",
    "            %(funny)s,\n",
    "            %(cool)s,\n",
    "            %(fans)s,\n",
    "            %(elite)s,\n",
    "            %(average_stars)s,\n",
    "            %(compliment_hot)s,\n",
    "            %(compliment_more)s,\n",
    "            %(compliment_profile)s,\n",
    "            %(compliment_cute)s,\n",
    "            %(compliment_list)s,\n",
    "            %(compliment_note)s,\n",
    "            %(compliment_plain)s,\n",
    "            %(compliment_cool)s,\n",
    "            %(compliment_funny)s,\n",
    "            %(compliment_writer)s,\n",
    "            %(compliment_photos)s);\n",
    "    \"\"\",\n",
    "    {'user_id': user_data[i]['user_id'],\n",
    "     'name': user_data[i]['name'],\n",
    "     'review_count': user_data[i]['review_count'],\n",
    "     'yelping_since': user_data[i]['yelping_since'],\n",
    "     'friends': [user_data[i]['friends']],\n",
    "     'useful': user_data[i]['useful'],\n",
    "     'funny': user_data[i]['funny'],\n",
    "     'cool': user_data[i]['cool'],\n",
    "     'fans': user_data[i]['fans'],\n",
    "     'elite': [user_data[i]['elite']],\n",
    "     'average_stars': user_data[i]['average_stars'],\n",
    "     'compliment_hot': user_data[i]['compliment_hot'],\n",
    "     'compliment_more': user_data[i]['compliment_more'],\n",
    "     'compliment_profile': user_data[i]['compliment_profile'],\n",
    "     'compliment_cute': user_data[i]['compliment_cute'],\n",
    "     'compliment_list': user_data[i]['compliment_list'],\n",
    "     'compliment_note': user_data[i]['compliment_note'],\n",
    "     'compliment_plain': user_data[i]['compliment_plain'],\n",
    "     'compliment_cool': user_data[i]['compliment_cool'],\n",
    "     'compliment_funny': user_data[i]['compliment_funny'],\n",
    "     'compliment_writer': user_data[i]['compliment_writer'],\n",
    "     'compliment_photos': user_data[i]['compliment_photos']\n",
    "    })\n",
    "\n",
    "cur.close()\n",
    "conn.close()"
   ]
  },
  {
   "cell_type": "markdown",
   "id": "b2febaeb-c1c8-4437-baf1-e4e0b00037fb",
   "metadata": {},
   "source": [
    "## Create and insert into review table"
   ]
  },
  {
   "cell_type": "code",
   "execution_count": 10,
   "id": "0b16d9c7",
   "metadata": {},
   "outputs": [],
   "source": [
    "try:\n",
    "    review_data\n",
    "except NameError:\n",
    "    review_data = []\n",
    "    with open('../data/yelp_academic_dataset_review.json', 'r') as file:\n",
    "        for line in file:\n",
    "            review_data.append(json.loads(line))"
   ]
  },
  {
   "cell_type": "code",
   "execution_count": null,
   "id": "d859d041",
   "metadata": {},
   "outputs": [],
   "source": [
    "conn = psycopg.connect(f\"dbname='yelp' user=postgres password={os.getenv('PSQL_PASSWORD')}\", autocommit=True)\n",
    "cur = conn.cursor()\n",
    "\n",
    "cur.execute(\"\"\"\n",
    "DROP TABLE IF EXISTS temp_reviews;\n",
    "\"\"\")\n",
    "\n",
    "cur.execute(\"\"\"\n",
    "CREATE TABLE temp_reviews (\n",
    "review_id VARCHAR(22) PRIMARY KEY,\n",
    "user_id VARCHAR(22),\n",
    "business_id VARCHAR(22),\n",
    "stars INT CHECK (stars >= 0 AND stars <= 5),\n",
    "date DATE,\n",
    "text TEXT,\n",
    "useful INT,\n",
    "funny INT,\n",
    "cool INT\n",
    ");\"\"\")\n",
    "\n",
    "cur.close()\n",
    "conn.close()"
   ]
  },
  {
   "cell_type": "code",
   "execution_count": null,
   "id": "202a3af1",
   "metadata": {},
   "outputs": [],
   "source": [
    "conn = psycopg.connect(f\"dbname='yelp' user=postgres password={os.getenv('PSQL_PASSWORD')}\", autocommit=True)\n",
    "cur = conn.cursor()\n",
    "\n",
    "cur.execute(\"\"\"\n",
    "DROP TABLE IF EXISTS reviews;\n",
    "\"\"\")\n",
    "\n",
    "cur.execute(\"\"\"\n",
    "CREATE TABLE reviews (\n",
    "review_id VARCHAR(22) PRIMARY KEY,\n",
    "user_id VARCHAR(22) REFERENCES users (user_id) ON DELETE CASCADE ON UPDATE CASCADE,\n",
    "business_id VARCHAR(22) REFERENCES businesses (business_id) ON DELETE CASCADE ON UPDATE CASCADE,\n",
    "stars INT CHECK (stars >= 0 AND stars <= 5),\n",
    "date DATE,\n",
    "text TEXT,\n",
    "useful INT,\n",
    "funny INT,\n",
    "cool INT\n",
    ");\"\"\")\n",
    "\n",
    "cur.close()\n",
    "conn.close()"
   ]
  },
  {
   "cell_type": "code",
   "execution_count": null,
   "id": "e04208f4",
   "metadata": {},
   "outputs": [],
   "source": [
    "conn = psycopg.connect(f\"dbname='yelp' user=postgres password={os.getenv('PSQL_PASSWORD')}\", autocommit=True)\n",
    "cur = conn.cursor()\n",
    "\n",
    "for i in range(len(review_data)):\n",
    "    cur.execute(\"\"\"\n",
    "    INSERT INTO temp_reviews (review_id,\n",
    "                        user_id,\n",
    "                        business_id,\n",
    "                        stars,\n",
    "                        date,\n",
    "                        text,\n",
    "                        useful,\n",
    "                        funny,\n",
    "                        cool)\n",
    "    VALUES (%(review_id)s,\n",
    "            %(user_id)s,\n",
    "            %(business_id)s,\n",
    "            %(stars)s,\n",
    "            %(date)s,\n",
    "            %(text)s,\n",
    "            %(useful)s,\n",
    "            %(funny)s,\n",
    "            %(cool)s);\n",
    "    \"\"\",\n",
    "    {'review_id': review_data[i]['review_id'],\n",
    "     'user_id': review_data[i]['user_id'],\n",
    "     'business_id': review_data[i]['business_id'],\n",
    "     'stars': review_data[i]['stars'],\n",
    "     'date': review_data[i]['date'],\n",
    "     'text': review_data[i]['text'],\n",
    "     'useful': review_data[i]['useful'],\n",
    "     'funny': review_data[i]['funny'],\n",
    "     'cool': review_data[i]['cool']\n",
    "    })\n",
    "\n",
    "cur.close()\n",
    "conn.close()"
   ]
  },
  {
   "cell_type": "code",
   "execution_count": null,
   "id": "4d477f9a",
   "metadata": {},
   "outputs": [],
   "source": [
    "valid_id = queries(\"\"\"\n",
    "SELECT tr.review_id, tr.user_id, tr.business_id, tr.stars, tr.date, tr.text, tr.useful, tr.funny, tr.cool\n",
    "FROM temp_reviews tr\n",
    "WHERE tr.user_id IN (SELECT user_id FROM users)\n",
    "AND tr.business_id IN (SELECT business_id FROM businesses);\n",
    "\"\"\")\n",
    "\n",
    "conn = psycopg.connect(f\"dbname='yelp' user=postgres password={os.getenv('PSQL_PASSWORD')}\", autocommit=True)\n",
    "cur = conn.cursor()\n",
    "\n",
    "cur.executemany(\"\"\"\n",
    "INSERT INTO reviews (review_id,\n",
    "                        user_id,\n",
    "                        business_id,\n",
    "                        stars,\n",
    "                        date,\n",
    "                        text,\n",
    "                        useful,\n",
    "                        funny,\n",
    "                        cool)\n",
    "    VALUES (%s, %s, %s, %s, %s, %s, %s, %s, %s);\n",
    "\"\"\",\n",
    "valid_id\n",
    ")\n",
    "\n",
    "cur.close()\n",
    "conn.close()"
   ]
  },
  {
   "cell_type": "code",
   "execution_count": 15,
   "id": "1f7de3db",
   "metadata": {},
   "outputs": [
    {
     "data": {
      "text/plain": [
       "[('businesses', 'BASE TABLE'),\n",
       " ('users', 'BASE TABLE'),\n",
       " ('temp_reviews', 'BASE TABLE'),\n",
       " ('reviews', 'BASE TABLE')]"
      ]
     },
     "execution_count": 15,
     "metadata": {},
     "output_type": "execute_result"
    }
   ],
   "source": [
    "queries(\"\"\"\n",
    "SELECT table_name, table_type\n",
    "FROM information_schema.tables\n",
    "WHERE table_schema = 'public';\n",
    "\"\"\")"
   ]
  },
  {
   "cell_type": "code",
   "execution_count": null,
   "id": "bcf6cd3e",
   "metadata": {},
   "outputs": [],
   "source": [
    "conn = psycopg.connect(f\"dbname='yelp' user=postgres password={os.getenv('PSQL_PASSWORD')}\", autocommit=True)\n",
    "cur = conn.cursor()\n",
    "\n",
    "cur.execute(\"\"\"\n",
    "DROP TABLE IF EXISTS temp_reviews;\n",
    "\"\"\")\n",
    "\n",
    "cur.close()\n",
    "conn.close()"
   ]
  },
  {
   "cell_type": "markdown",
   "id": "2b318641",
   "metadata": {},
   "source": [
    "## Commands to check if any other users is using the database incase you need to drop the database"
   ]
  },
  {
   "cell_type": "code",
   "execution_count": 6,
   "id": "ea10a1a4",
   "metadata": {},
   "outputs": [
    {
     "data": {
      "text/plain": [
       "[]"
      ]
     },
     "execution_count": 6,
     "metadata": {},
     "output_type": "execute_result"
    }
   ],
   "source": [
    "queries(\"\"\"\n",
    "SELECT *, pg_terminate_backend(pid)\n",
    "FROM pg_stat_activity \n",
    "WHERE pid <> pg_backend_pid()\n",
    "AND datname = 'yelp';\n",
    "\"\"\")"
   ]
  },
  {
   "cell_type": "code",
   "execution_count": 5,
   "id": "bb8fe48a",
   "metadata": {},
   "outputs": [
    {
     "data": {
      "text/plain": [
       "[]"
      ]
     },
     "execution_count": 5,
     "metadata": {},
     "output_type": "execute_result"
    }
   ],
   "source": [
    "queries(\"\"\"\n",
    "SELECT pg_terminate_backend(pg_stat_activity.pid)\n",
    "FROM pg_stat_activity\n",
    "WHERE pg_stat_activity.datname = 'yelp'\n",
    "  AND pid <> pg_backend_pid();\n",
    "\"\"\")"
   ]
  }
 ],
 "metadata": {
  "kernelspec": {
   "display_name": "base",
   "language": "python",
   "name": "python3"
  },
  "language_info": {
   "codemirror_mode": {
    "name": "ipython",
    "version": 3
   },
   "file_extension": ".py",
   "mimetype": "text/x-python",
   "name": "python",
   "nbconvert_exporter": "python",
   "pygments_lexer": "ipython3",
   "version": "3.11.5"
  }
 },
 "nbformat": 4,
 "nbformat_minor": 5
}
